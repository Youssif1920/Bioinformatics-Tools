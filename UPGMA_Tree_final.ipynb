{
 "cells": [
  {
   "cell_type": "code",
   "execution_count": null,
   "metadata": {
    "colab": {
     "base_uri": "https://localhost:8080/"
    },
    "id": "uJs0kGPJrF1z",
    "outputId": "501196ab-5805-4df2-a07c-1b1a208bd148"
   },
   "outputs": [
    {
     "name": "stdout",
     "output_type": "stream",
     "text": [
      "Please enter the number of sequences: 6\n",
      "please enter gene names: \n",
      "A B C D E F\n",
      "Please enter the number of distance matrix separated by comma between each entry: \n"
     ]
    }
   ],
   "source": [
    "number=int(input(\"Please enter the number of sequences: \"))\n",
    "\n",
    "distance = []\n",
    "gene_names = []\n",
    "\n",
    "print(\"please enter gene names: \")\n",
    "entries = input().split(' ')\n",
    "for i in range (0,number):  \n",
    "    try:\n",
    "      if entries[i]==' ' :\n",
    "       gene_names.append(\"x\"+str(i))\n",
    "      else :\n",
    "       gene_names.append((entries[i]))\n",
    "    except IndexError:\n",
    "       gene_names.append(\"x\"+str(i)) \n",
    "\n",
    "print(\"Please enter the number of distance matrix separated by comma between each entry: \")     \n",
    "for i in range(0,number):\n",
    "  row = []\n",
    "  entries = input().split(',')\n",
    "  \n",
    "  for j in range (0,number): \n",
    "    try:\n",
    "      row.append(int(entries[j]))\n",
    "    except ValueError:\n",
    "       row.append(0)\n",
    "    except IndexError:\n",
    "       row.append(0)\n",
    "  distance.append(row)"
   ]
  },
  {
   "cell_type": "code",
   "execution_count": 6,
   "metadata": {
    "colab": {
     "base_uri": "https://localhost:8080/"
    },
    "id": "4h4hzeRroAp0",
    "outputId": "7f8ed738-464c-4752-bc1a-27e284e69d32"
   },
   "outputs": [
    {
     "name": "stdout",
     "output_type": "stream",
     "text": [
      "[[ 0.   9.   4.5  9.  10. ]\n",
      " [ 0.   0.   6.   2.  10. ]\n",
      " [ 0.   0.   0.   6.  10. ]\n",
      " [ 0.   0.   0.   0.  10. ]\n",
      " [ 0.   0.   0.   0.   0. ]]\n",
      "[[ 0.   9.   4.5 10. ]\n",
      " [ 0.   0.   6.  10. ]\n",
      " [ 0.   0.   0.  10. ]\n",
      " [ 0.   0.   0.   0. ]]\n",
      "[[ 0.   7.5 10. ]\n",
      " [ 0.   0.  10. ]\n",
      " [ 0.   0.   0. ]]\n",
      "[[ 0. 10.]\n",
      " [ 0.  0.]]\n",
      "[('a', 'c'), ('b', 'e'), ('a/c', 'd'), ('a/c', 'b/e')]\n"
     ]
    }
   ],
   "source": [
    "import numpy as np\n",
    "\n",
    "def tree(distance, seq_num, list, gene_names):\n",
    "  Minimum = np.max(distance)\n",
    "\n",
    "  seq1_indx = -1\n",
    "  seq2_indx = -1\n",
    "  for i in range(seq_num):\n",
    "     for j in range(i + 1, seq_num):\n",
    "       if (distance[i][j] < Minimum):\n",
    "         Minimum = distance[i][j]\n",
    "         if i>j:\n",
    "          seq1_indx = j\n",
    "          seq2_indx = i\n",
    "         else:\n",
    "           seq1_indx = i\n",
    "           seq2_indx = j\n",
    "\n",
    "  for i in range(0,seq1_indx):\n",
    "    distance[i][seq1_indx]=(distance[i][seq1_indx]+distance[i][seq2_indx])/2\n",
    "\n",
    "  for i in range(seq1_indx+1,seq_num):\n",
    "    if(i<seq2_indx):\n",
    "      distance[seq1_indx][i] =(distance[seq1_indx][i]+distance[i][seq2_indx])/2\n",
    "    else:\n",
    "      distance[seq1_indx][i]=(distance[seq1_indx][i]+distance[seq2_indx][i])/2\n",
    "\n",
    "  distance=np.delete(distance,seq2_indx,0)\n",
    "  distance=np.delete(distance,seq2_indx,1)\n",
    "\n",
    "  seq_num -= 1\n",
    "  \n",
    "  list.append((gene_names[seq1_indx],gene_names[seq2_indx]))    \n",
    "  gene_names[seq1_indx]=gene_names[seq1_indx]+\"/\"+gene_names[seq2_indx]\n",
    "  gene_names=np.delete(gene_names,seq2_indx)\n",
    "\n",
    "  print(distance)\n",
    "\n",
    "  if seq_num > 2:\n",
    "    tree(distance, seq_num, list, gene_names)\n",
    "\n",
    "\n",
    "clusterlist = []\n",
    "tree(distance, number, clusterlist, gene_names)\n",
    "\n",
    "print(clusterlist)"
   ]
  }
 ],
 "metadata": {
  "colab": {
   "collapsed_sections": [],
   "name": "UPGMA Tree - final.ipynb",
   "provenance": []
  },
  "kernelspec": {
   "display_name": "Python 3",
   "language": "python",
   "name": "python3"
  },
  "language_info": {
   "codemirror_mode": {
    "name": "ipython",
    "version": 3
   },
   "file_extension": ".py",
   "mimetype": "text/x-python",
   "name": "python",
   "nbconvert_exporter": "python",
   "pygments_lexer": "ipython3",
   "version": "3.8.5"
  }
 },
 "nbformat": 4,
 "nbformat_minor": 4
}
