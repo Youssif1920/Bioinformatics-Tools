{
  "nbformat": 4,
  "nbformat_minor": 0,
  "metadata": {
    "colab": {
      "name": "global_alignment.ipynb",
      "provenance": [],
      "collapsed_sections": []
    },
    "kernelspec": {
      "name": "python3",
      "display_name": "Python 3"
    },
    "language_info": {
      "name": "python"
    }
  },
  "cells": [
    {
      "cell_type": "code",
      "execution_count": null,
      "metadata": {
        "colab": {
          "base_uri": "https://localhost:8080/"
        },
        "id": "XkJpc-oiF5vl",
        "outputId": "d3886625-08c5-41f2-c875-364878ad9230"
      },
      "outputs": [
        {
          "output_type": "stream",
          "name": "stdout",
          "text": [
            "Requirement already satisfied: BioPython in /usr/local/lib/python3.7/dist-packages (1.79)\n",
            "Requirement already satisfied: numpy in /usr/local/lib/python3.7/dist-packages (from BioPython) (1.19.5)\n"
          ]
        }
      ],
      "source": [
        "BlosumMat = {\n",
        "    ('W', 'F'): 1, ('L', 'R'): -2, ('S', 'P'): -1, ('V', 'T'): 0,\n",
        "    ('Q', 'Q'): 5, ('N', 'A'): -2, ('Z', 'Y'): -2, ('W', 'R'): -3,\n",
        "    ('Q', 'A'): -1, ('S', 'D'): 0, ('H', 'H'): 8, ('S', 'H'): -1,\n",
        "    ('H', 'D'): -1, ('L', 'N'): -3, ('W', 'A'): -3, ('Y', 'M'): -1,\n",
        "    ('G', 'R'): -2, ('Y', 'I'): -1, ('Y', 'E'): -2, ('B', 'Y'): -3,\n",
        "    ('Y', 'A'): -2, ('V', 'D'): -3, ('B', 'S'): 0, ('Y', 'Y'): 7,\n",
        "    ('G', 'N'): 0, ('E', 'C'): -4, ('Y', 'Q'): -1, ('Z', 'Z'): 4,\n",
        "    ('V', 'A'): 0, ('C', 'C'): 9, ('M', 'R'): -1, ('V', 'E'): -2,\n",
        "    ('T', 'N'): 0, ('P', 'P'): 7, ('V', 'I'): 3, ('V', 'S'): -2,\n",
        "    ('Z', 'P'): -1, ('V', 'M'): 1, ('T', 'F'): -2, ('V', 'Q'): -2,\n",
        "    ('K', 'K'): 5, ('P', 'D'): -1, ('I', 'H'): -3, ('I', 'D'): -3,\n",
        "    ('T', 'R'): -1, ('P', 'L'): -3, ('K', 'G'): -2, ('M', 'N'): -2,\n",
        "    ('P', 'H'): -2, ('F', 'Q'): -3, ('Z', 'G'): -2, ('X', 'L'): -1,\n",
        "    ('T', 'M'): -1, ('Z', 'C'): -3, ('X', 'H'): -1, ('D', 'R'): -2,\n",
        "    ('B', 'W'): -4, ('X', 'D'): -1, ('Z', 'K'): 1, ('F', 'A'): -2,\n",
        "    ('Z', 'W'): -3, ('F', 'E'): -3, ('D', 'N'): 1, ('B', 'K'): 0,\n",
        "    ('X', 'X'): -1, ('F', 'I'): 0, ('B', 'G'): -1, ('X', 'T'): 0,\n",
        "    ('F', 'M'): 0, ('B', 'C'): -3, ('Z', 'I'): -3, ('Z', 'V'): -2,\n",
        "    ('S', 'S'): 4, ('L', 'Q'): -2, ('W', 'E'): -3, ('Q', 'R'): 1,\n",
        "    ('N', 'N'): 6, ('W', 'M'): -1, ('Q', 'C'): -3, ('W', 'I'): -3,\n",
        "    ('S', 'C'): -1, ('L', 'A'): -1, ('S', 'G'): 0, ('L', 'E'): -3,\n",
        "    ('W', 'Q'): -2, ('H', 'G'): -2, ('S', 'K'): 0, ('Q', 'N'): 0,\n",
        "    ('N', 'R'): 0, ('H', 'C'): -3, ('Y', 'N'): -2, ('G', 'Q'): -2,\n",
        "    ('Y', 'F'): 3, ('C', 'A'): 0, ('V', 'L'): 1, ('G', 'E'): -2,\n",
        "    ('G', 'A'): 0, ('K', 'R'): 2, ('E', 'D'): 2, ('Y', 'R'): -2,\n",
        "    ('M', 'Q'): 0, ('T', 'I'): -1, ('C', 'D'): -3, ('V', 'F'): -1,\n",
        "    ('T', 'A'): 0, ('T', 'P'): -1, ('B', 'P'): -2, ('T', 'E'): -1,\n",
        "    ('V', 'N'): -3, ('P', 'G'): -2, ('M', 'A'): -1, ('K', 'H'): -1,\n",
        "    ('V', 'R'): -3, ('P', 'C'): -3, ('M', 'E'): -2, ('K', 'L'): -2,\n",
        "    ('V', 'V'): 4, ('M', 'I'): 1, ('T', 'Q'): -1, ('I', 'G'): -4,\n",
        "    ('P', 'K'): -1, ('M', 'M'): 5, ('K', 'D'): -1, ('I', 'C'): -1,\n",
        "    ('Z', 'D'): 1, ('F', 'R'): -3, ('X', 'K'): -1, ('Q', 'D'): 0,\n",
        "    ('X', 'G'): -1, ('Z', 'L'): -3, ('X', 'C'): -2, ('Z', 'H'): 0,\n",
        "    ('B', 'L'): -4, ('B', 'H'): 0, ('F', 'F'): 6, ('X', 'W'): -2,\n",
        "    ('B', 'D'): 4, ('D', 'A'): -2, ('S', 'L'): -2, ('X', 'S'): 0,\n",
        "    ('F', 'N'): -3, ('S', 'R'): -1, ('W', 'D'): -4, ('V', 'Y'): -1,\n",
        "    ('W', 'L'): -2, ('H', 'R'): 0, ('W', 'H'): -2, ('H', 'N'): 1,\n",
        "    ('W', 'T'): -2, ('T', 'T'): 5, ('S', 'F'): -2, ('W', 'P'): -4,\n",
        "    ('L', 'D'): -4, ('B', 'I'): -3, ('L', 'H'): -3, ('S', 'N'): 1,\n",
        "    ('B', 'T'): -1, ('L', 'L'): 4, ('Y', 'K'): -2, ('E', 'Q'): 2,\n",
        "    ('Y', 'G'): -3, ('Z', 'S'): 0, ('Y', 'C'): -2, ('G', 'D'): -1,\n",
        "    ('B', 'V'): -3, ('E', 'A'): -1, ('Y', 'W'): 2, ('E', 'E'): 5,\n",
        "    ('Y', 'S'): -2, ('C', 'N'): -3, ('V', 'C'): -1, ('T', 'H'): -2,\n",
        "    ('P', 'R'): -2, ('V', 'G'): -3, ('T', 'L'): -1, ('V', 'K'): -2,\n",
        "    ('K', 'Q'): 1, ('R', 'A'): -1, ('I', 'R'): -3, ('T', 'D'): -1,\n",
        "    ('P', 'F'): -4, ('I', 'N'): -3, ('K', 'I'): -3, ('M', 'D'): -3,\n",
        "    ('V', 'W'): -3, ('W', 'W'): 11, ('M', 'H'): -2, ('P', 'N'): -2,\n",
        "    ('K', 'A'): -1, ('M', 'L'): 2, ('K', 'E'): 1, ('Z', 'E'): 4,\n",
        "    ('X', 'N'): -1, ('Z', 'A'): -1, ('Z', 'M'): -1, ('X', 'F'): -1,\n",
        "    ('K', 'C'): -3, ('B', 'Q'): 0, ('X', 'B'): -1, ('B', 'M'): -3,\n",
        "    ('F', 'C'): -2, ('Z', 'Q'): 3, ('X', 'Z'): -1, ('F', 'G'): -3,\n",
        "    ('B', 'E'): 1, ('X', 'V'): -1, ('F', 'K'): -3, ('B', 'A'): -2,\n",
        "    ('X', 'R'): -1, ('D', 'D'): 6, ('W', 'G'): -2, ('Z', 'F'): -3,\n",
        "    ('S', 'Q'): 0, ('W', 'C'): -2, ('W', 'K'): -3, ('H', 'Q'): 0,\n",
        "    ('L', 'C'): -1, ('W', 'N'): -4, ('S', 'A'): 1, ('L', 'G'): -4,\n",
        "    ('W', 'S'): -3, ('S', 'E'): 0, ('H', 'E'): 0, ('S', 'I'): -2,\n",
        "    ('H', 'A'): -2, ('S', 'M'): -1, ('Y', 'L'): -1, ('Y', 'H'): 2,\n",
        "    ('Y', 'D'): -3, ('E', 'R'): 0, ('X', 'P'): -2, ('G', 'G'): 6,\n",
        "    ('G', 'C'): -3, ('E', 'N'): 0, ('Y', 'T'): -2, ('Y', 'P'): -3,\n",
        "    ('T', 'K'): -1, ('A', 'A'): 4, ('P', 'Q'): -1, ('T', 'C'): -1,\n",
        "    ('V', 'H'): -3, ('T', 'G'): -2, ('I', 'Q'): -3, ('Z', 'T'): -1,\n",
        "    ('C', 'R'): -3, ('V', 'P'): -2, ('P', 'E'): -1, ('M', 'C'): -1,\n",
        "    ('K', 'N'): 0, ('I', 'I'): 4, ('P', 'A'): -1, ('M', 'G'): -3,\n",
        "    ('T', 'S'): 1, ('I', 'E'): -3, ('P', 'M'): -2, ('M', 'K'): -1,\n",
        "    ('I', 'A'): -1, ('P', 'I'): -3, ('R', 'R'): 5, ('X', 'M'): -1,\n",
        "    ('L', 'I'): 2, ('X', 'I'): -1, ('Z', 'B'): 1, ('X', 'E'): -1,\n",
        "    ('Z', 'N'): 0, ('X', 'A'): 0, ('B', 'R'): -1, ('B', 'N'): 3,\n",
        "    ('F', 'D'): -3, ('X', 'Y'): -1, ('Z', 'R'): 0, ('F', 'H'): -1,\n",
        "    ('B', 'F'): -3, ('F', 'L'): 0, ('X', 'Q'): -1, ('B', 'B'): 4\n",
        "}\n"
      ]
    },
    {
      "cell_type": "code",
      "source": [
        "#dna and protein\n",
        "def valid_seq(validation,seq):\n",
        "    seq = seq.upper()\n",
        "    return(all(i in validation for i in seq))\n"
      ],
      "metadata": {
        "id": "mse-yxhHGAxJ"
      },
      "execution_count": null,
      "outputs": []
    },
    {
      "cell_type": "code",
      "source": [
        "#dna and proten\n",
        "def initialization(seq1,seq2,gap):\n",
        "    seq1_len = len(seq1)\n",
        "    seq2_len = len(seq2)\n",
        "    global matrix\n",
        "    matrix = [[0 for x in range(seq1_len+1)] for y in range(seq2_len+1)] #setting zeros to our matrix\n",
        "    for i in range(seq2_len + 1):\n",
        "        matrix[i][0] = i*gap\n",
        "    for j in range(seq1_len + 1):\n",
        "        matrix[0][j] = j*gap\n"
      ],
      "metadata": {
        "id": "TyzG8UgNGJn0"
      },
      "execution_count": null,
      "outputs": []
    },
    {
      "cell_type": "code",
      "source": [
        "def filling_DNA(seq1, seq2, gap):\n",
        "    seq1_len = len(seq1)\n",
        "    seq2_len = len(seq2)\n",
        "    for i in range(1,seq2_len+1):\n",
        "        for j in range(1,seq1_len+1):\n",
        "            if seq1[j-1] == seq2[i-1]: #specify the match and mismatch of the diagonal\n",
        "                score= 1 #match score\n",
        "            else:\n",
        "                score= -1 #mismatch score\n",
        "            #assigning the intersaction cell to the max num the came from the diagonal or top or left\n",
        "            matrix[i][j]= max(matrix[i-1][j]+gap, matrix[i][j-1]+gap,matrix[i-1][j-1]+score)\n"
      ],
      "metadata": {
        "id": "WSX02JHCGP0R"
      },
      "execution_count": null,
      "outputs": []
    },
    {
      "cell_type": "code",
      "source": [
        "def filling_protein(seq1, seq2, gap):\n",
        "    seq1_len = len(seq1)\n",
        "    seq2_len = len(seq2)\n",
        "    for i in range(1, seq2_len + 1, 1):\n",
        "        for j in range(1, seq1_len + 1, 1):\n",
        "            k = seq1[j - 1].upper()\n",
        "            z = seq2[i - 1].upper()\n",
        "            if BlosumMat80.get((k, z)) is None:\n",
        "                score = BlosumMat80.get((z, k))\n",
        "            else:\n",
        "                score = BlosumMat80.get((k, z))\n",
        "            # fill the matrix\n",
        "            matrix[i][j] = max(matrix[i - 1][j] + gap, matrix[i][j - 1] + gap, matrix[i - 1][j - 1] + score)\n"
      ],
      "metadata": {
        "id": "u4KQePTVHJNc"
      },
      "execution_count": null,
      "outputs": []
    },
    {
      "cell_type": "code",
      "source": [
        "def traceback(seq1, seq2, gap , num):\n",
        "    global TBseq1\n",
        "    global TBseq2\n",
        "    TBseq1 = ' '\n",
        "    TBseq2 = ' '\n",
        "    row_index = len(seq2)\n",
        "    col_index = len(seq1)\n",
        "    totalsc = 0\n",
        "    choice = num\n",
        "    while row_index > 0 and col_index > 0:\n",
        "        left = matrix[row_index][col_index - 1] + gap\n",
        "        up = matrix[row_index - 1][col_index] + gap\n",
        "        if choice == 1: \n",
        "            if seq1[col_index - 1] == seq2[row_index - 1]:\n",
        "                score = 1\n",
        "            else:\n",
        "                score = -2\n",
        "            diagonal = matrix[row_index - 1][col_index - 1] + score\n",
        "        elif choice == 2:\n",
        "            k = seq1[col_index - 1].upper()\n",
        "            z = seq2[row_index - 1].upper()\n",
        "            if BlosumMat80.get((k, z)) is None:\n",
        "                score = BlosumMat80.get((z, k))\n",
        "            else:\n",
        "                score = BlosumMat80.get((k, z))\n",
        "            diagonal = matrix[row_index - 1][col_index - 1] + score\n",
        "        \n",
        "        \n",
        "        if matrix[row_index][col_index] == diagonal:\n",
        "            TBseq1 += seq1[col_index - 1]\n",
        "            TBseq2 += seq2[row_index - 1]\n",
        "            row_index -= 1\n",
        "            col_index -= 1\n",
        "            totalsc += score\n",
        "        elif matrix[row_index][col_index] == up:\n",
        "            TBseq1 += '-'\n",
        "            TBseq2 += seq2[row_index - 1]\n",
        "            row_index -= 1\n",
        "            totalsc+=gap\n",
        "\n",
        "        elif matrix[row_index][col_index] == left:\n",
        "            TBseq2 += '-'\n",
        "            TBseq1 += seq1[col_index - 1]\n",
        "            col_index -= 1\n",
        "            totalsc += gap\n",
        "\n",
        "    while row_index > 0:\n",
        "     TBseq1 += \"-\"\n",
        "     TBseq2 += seq2[row_index - 1]\n",
        "     row_index -= 1\n",
        "     totalsc+=gap\n",
        "    \n",
        "    while col_index > 0:\n",
        "     TBseq1 += seq1[col_index - 1]\n",
        "     TBseq2+= \"-\"\n",
        "     col_index -= 1\n",
        "     totalsc+=gap\n",
        "    \n",
        "    TBseq1 = TBseq1[::-1]\n",
        "    TBseq2 = TBseq2[::-1]\n",
        "    print(TBseq1)\n",
        "    print(TBseq2)\n",
        "    print(totalsc)\n"
      ],
      "metadata": {
        "id": "iReL7dWoGStF"
      },
      "execution_count": null,
      "outputs": []
    },
    {
      "cell_type": "code",
      "source": [
        "def global_alignment():\n",
        "    choice = input(\"press 1 for DNA \\n press 2 for protein\\n\")\n",
        "    if choice == '1':\n",
        "        Bases = ['A', 'T', 'C', 'G']\n",
        "        seq1 = input(\"Enter the first DNA sequence: \")\n",
        "        seq2 = input(\"Enter the second DNA sequence: \")\n",
        "        if (valid_seq(Bases, seq1)) and (valid_seq(Bases, seq2)):\n",
        "            initialization(seq1, seq2, -1)\n",
        "            filling_DNA(seq1, seq2, -1)\n",
        "            traceback(seq1, seq2, -1, 1)\n",
        "        else:\n",
        "            print(\"invalid DNA sequence\")\n",
        "\n",
        "    elif choice == '2':\n",
        "        aminoAcids = ['W', 'F', 'L', 'R', 'S', 'P', 'V', 'T', 'Q', 'N', 'A', 'Z', 'Y', 'D', 'H', 'M', 'G', 'I', 'E',\n",
        "                      'B']\n",
        "        seq1 = input(\"enter first protein sequence:\")\n",
        "        seq2 = input(\"enter second protein sequence:\")\n",
        "        if (valid_seq(aminoAcids, seq1)) and (valid_seq(aminoAcids, seq2)):\n",
        "            initialization(seq1, seq2, -8)\n",
        "            filling_protein(seq1, seq2, -8)\n",
        "            traceback(seq1, seq2, -8, 2)\n",
        "        else:\n",
        "            print(\"invalid protein sequence\")\n",
        "\n",
        "    else:\n",
        "        print(\"incorrect choice\")\n"
      ],
      "metadata": {
        "id": "XDeODwVHMHe1"
      },
      "execution_count": null,
      "outputs": []
    },
    {
      "cell_type": "code",
      "source": [
        "global_alignment()"
      ],
      "metadata": {
        "colab": {
          "base_uri": "https://localhost:8080/"
        },
        "id": "mpwdqaD-MLot",
        "outputId": "b0f94bac-8083-432f-a4db-7ae8d0727dba"
      },
      "execution_count": null,
      "outputs": [
        {
          "output_type": "stream",
          "name": "stdout",
          "text": [
            "press 1 for DNA \n",
            " press 2 for protein\n",
            "2\n",
            "enter first protein sequence:heagawghee\n",
            "enter second protein sequence:pawheae\n",
            "heagawghe-e \n",
            "--p-aw-heae \n",
            "-5\n"
          ]
        }
      ]
    }
  ]
}